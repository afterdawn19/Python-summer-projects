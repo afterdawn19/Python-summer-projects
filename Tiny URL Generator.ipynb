{
 "cells": [
  {
   "cell_type": "code",
   "execution_count": null,
   "id": "a6101758",
   "metadata": {},
   "outputs": [],
   "source": [
    "# Tiny url generator\n",
    "\n",
    "https://tinyurl.com"
   ]
  },
  {
   "cell_type": "code",
   "execution_count": 3,
   "id": "87c4f6ff",
   "metadata": {},
   "outputs": [],
   "source": [
    "import random\n",
    "import string\n",
    "\n",
    "d = {}\n",
    "\n",
    "\n",
    "def getShortURL(originalURL):\n",
    "    l = random.randint(5,10)\n",
    "    print('Randomly generated word length : ',l)\n",
    "    chars = string.ascii_lowercase\n",
    "    shortURL = ''.join(random.choice(chars) for i in range(l))\n",
    "    print('Randomly generated word : ',shortURL)\n",
    "    \n",
    "    if shortURL in d:\n",
    "        return getShortURL(originalURL)\n",
    "    else:\n",
    "        d[shortURL] = originalURL\n",
    "        \n",
    "    print('Dictionary is : ',d)\n",
    "    r = 'https://www.shortURL.com/' + shortURL\n",
    "    return r  \n",
    "\n",
    "\n",
    "\n",
    "def originalURL(shortURL):\n",
    "    k = shortURL[25:]\n",
    "    print(k)\n",
    "    \n",
    "    if k in d:\n",
    "        return d[k]\n",
    "    else:\n",
    "        print('Original URL not found')"
   ]
  },
  {
   "cell_type": "code",
   "execution_count": 4,
   "id": "d4c973cc",
   "metadata": {},
   "outputs": [
    {
     "name": "stdout",
     "output_type": "stream",
     "text": [
      "Randomly generated word length :  7\n",
      "Randomly generated word :  zmoyxbq\n",
      "Dictionary is :  {'zmoyxbq': 'www.iamlearningpython'}\n",
      "https://www.shortURL.com/zmoyxbq\n"
     ]
    }
   ],
   "source": [
    "print(getShortURL(\"www.iamlearningpython\"))"
   ]
  },
  {
   "cell_type": "code",
   "execution_count": 5,
   "id": "fcbe6325",
   "metadata": {},
   "outputs": [
    {
     "name": "stdout",
     "output_type": "stream",
     "text": [
      "zmoyxbq\n",
      "www.iamlearningpython\n"
     ]
    }
   ],
   "source": [
    "print(originalURL(\"https://www.shorturl.com/zmoyxbq\"))"
   ]
  },
  {
   "cell_type": "code",
   "execution_count": null,
   "id": "73fcb807",
   "metadata": {},
   "outputs": [],
   "source": []
  }
 ],
 "metadata": {
  "kernelspec": {
   "display_name": "Python 3 (ipykernel)",
   "language": "python",
   "name": "python3"
  },
  "language_info": {
   "codemirror_mode": {
    "name": "ipython",
    "version": 3
   },
   "file_extension": ".py",
   "mimetype": "text/x-python",
   "name": "python",
   "nbconvert_exporter": "python",
   "pygments_lexer": "ipython3",
   "version": "3.9.13"
  }
 },
 "nbformat": 4,
 "nbformat_minor": 5
}
