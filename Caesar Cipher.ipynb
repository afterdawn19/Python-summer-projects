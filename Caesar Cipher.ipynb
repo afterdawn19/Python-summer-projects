{
 "cells": [
  {
   "cell_type": "code",
   "execution_count": null,
   "id": "4b583156",
   "metadata": {},
   "outputs": [],
   "source": [
    "#Text Encrypted and decrytion \n",
    "\n",
    "A, B, C, D, E, F, G, H, I, J,  K,  L,  M,  N,  O,  P,  Q,  R,  S,  T,  U,   V,  W,  X,  Y,  Z\n",
    "1, 2, 3, 4, 5, 6, 7, 8, 9, 10, 11, 12, 13, 14, 15, 16, 17, 18, 19, 20, 21, 22, 23, 24, 25, 26"
   ]
  },
  {
   "cell_type": "code",
   "execution_count": 3,
   "id": "49156f63",
   "metadata": {},
   "outputs": [
    {
     "name": "stdout",
     "output_type": "stream",
     "text": [
      "Enter a choice 'encrypt or 'decrypt' \n",
      " encrypt\n",
      "Enter a message : \n",
      "Hello\n",
      "Enter a key : \n",
      "3\n",
      "The encrypted text is : khoor\n"
     ]
    }
   ],
   "source": [
    "alphabet = ['a', 'b', 'c', 'd', 'e', 'f', 'g', 'h', 'i', 'j', 'k', 'l', 'm', 'n', 'o', 'p', 'q', 'r', 's', 't', 'u', 'v', 'w', 'x', 'y', 'z']\n",
    "\n",
    "\n",
    "\n",
    "\n",
    "choice = input(\"Enter a choice 'encrypt or 'decrypt' \\n \")\n",
    "text = input(\"Enter a message : \\n\").lower()\n",
    "key = int(input(\"Enter a key : \\n\"))\n",
    "\n",
    "\n",
    "def encrypt(message,shift):\n",
    "    encryptedText = \"\"\n",
    "    for letter in message:\n",
    "        pos = alphabet.index(letter)\n",
    "        newPos = (pos + shift) % 26\n",
    "        encryptedText += alphabet[newPos]\n",
    "    print('The encrypted text is :',encryptedText)\n",
    "    \n",
    "    \n",
    "    \n",
    "\n",
    "def decrypt(message,shift):\n",
    "    decryptedText = \"\"\n",
    "    for letter in message:\n",
    "        pos = alphabet.index(letter)\n",
    "        newPos = (pos - shift) % 26\n",
    "        decryptedText += alphabet[newPos]\n",
    "    print('The decrypted text is :',decryptedText)\n",
    "    \n",
    "    \n",
    "if choice == 'encrypt':\n",
    "    encrypt(text,key)\n",
    "elif choice == 'decrypt':\n",
    "    decrypt(text,key)\n",
    "    \n",
    "else:\n",
    "    print('Enter the correct choice')\n",
    "      "
   ]
  },
  {
   "cell_type": "code",
   "execution_count": null,
   "id": "3703b690",
   "metadata": {},
   "outputs": [],
   "source": []
  }
 ],
 "metadata": {
  "kernelspec": {
   "display_name": "Python 3 (ipykernel)",
   "language": "python",
   "name": "python3"
  },
  "language_info": {
   "codemirror_mode": {
    "name": "ipython",
    "version": 3
   },
   "file_extension": ".py",
   "mimetype": "text/x-python",
   "name": "python",
   "nbconvert_exporter": "python",
   "pygments_lexer": "ipython3",
   "version": "3.9.13"
  }
 },
 "nbformat": 4,
 "nbformat_minor": 5
}
